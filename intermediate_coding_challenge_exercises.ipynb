{
 "cells": [
  {
   "cell_type": "markdown",
   "id": "53fc934f",
   "metadata": {},
   "source": [
    "#### 1. Write a function that takes an array of integers and a target integer, then returns the indices of the two integers that add up to the target. You may assume that each input would have exactly one solution, and you may not use the same element twice.\n",
    "\n",
    "Example:\n",
    "\n",
    "Input: [ 1, 4, 8, 12 ], 20 | Output: [ 2, 3 ]"
   ]
  },
  {
   "cell_type": "code",
   "execution_count": 1,
   "id": "9d7a4fa9",
   "metadata": {},
   "outputs": [],
   "source": [
    "def get_indices(lst, target):\n",
    "    \n",
    "    for elem1 in lst:\n",
    "        for elem2 in lst:\n",
    "            if elem1 != elem2 and elem1 + elem2 == 20:\n",
    "                return (lst.index(elem1), lst.index(elem2))\n",
    "    return []\n",
    "        \n",
    "    "
   ]
  },
  {
   "cell_type": "code",
   "execution_count": 2,
   "id": "3dcd4e87",
   "metadata": {},
   "outputs": [
    {
     "data": {
      "text/plain": [
       "(2, 3)"
      ]
     },
     "execution_count": 2,
     "metadata": {},
     "output_type": "execute_result"
    }
   ],
   "source": [
    "get_indices([1, 4, 8, 12], 20)"
   ]
  },
  {
   "cell_type": "code",
   "execution_count": 3,
   "id": "1486ca13",
   "metadata": {},
   "outputs": [
    {
     "data": {
      "text/plain": [
       "(4, 9)"
      ]
     },
     "execution_count": 3,
     "metadata": {},
     "output_type": "execute_result"
    }
   ],
   "source": [
    "get_indices([1,2,3,4,5,6,7,8,9,15], 20)"
   ]
  },
  {
   "cell_type": "markdown",
   "id": "3cf26d6f",
   "metadata": {},
   "source": [
    "#### 2. Write a function that sorts a string in decreasing order based on the frequency of the characters within it.\n",
    "\n",
    "Examples:\n",
    "\n",
    "Input: \"bee\" | Output:\"eeb\"\n",
    "Input: \"Abaaacdb\" | Output: \"aaabbAcd\""
   ]
  },
  {
   "cell_type": "code",
   "execution_count": 4,
   "id": "5ce9c6cf",
   "metadata": {},
   "outputs": [],
   "source": [
    "def sort_string_by_count(string):\n",
    "    \n",
    "    counts = []\n",
    "    \n",
    "    for char in string:\n",
    "        counts.append({'character': char, 'count': string.count(char)})\n",
    "    \n",
    "    counts = sorted(counts, key=lambda elem: (elem['count']), reverse=True)\n",
    "    \n",
    "    return ''.join([elem['character'] for elem in counts])"
   ]
  },
  {
   "cell_type": "code",
   "execution_count": 5,
   "id": "dfc3158c",
   "metadata": {},
   "outputs": [
    {
     "data": {
      "text/plain": [
       "'eeb'"
      ]
     },
     "execution_count": 5,
     "metadata": {},
     "output_type": "execute_result"
    }
   ],
   "source": [
    "sort_string_by_count('bee')"
   ]
  },
  {
   "cell_type": "code",
   "execution_count": 6,
   "id": "c593b313",
   "metadata": {},
   "outputs": [
    {
     "data": {
      "text/plain": [
       "'aaabbAcd'"
      ]
     },
     "execution_count": 6,
     "metadata": {},
     "output_type": "execute_result"
    }
   ],
   "source": [
    "sort_string_by_count('Abaaacdb')"
   ]
  },
  {
   "cell_type": "markdown",
   "id": "d7d9597b",
   "metadata": {},
   "source": [
    "#### 3. Return the length of the longest possible palindrome within a given string.\n",
    "\n",
    "Examples:\n",
    "\n",
    "Input: \"bbadbb\" | Output:5 (bbabb or bbdbb)\n",
    "Input: \"bcd\" | Output: 1 (b, c, or d)"
   ]
  },
  {
   "cell_type": "code",
   "execution_count": null,
   "id": "a8ce07e9",
   "metadata": {},
   "outputs": [],
   "source": []
  },
  {
   "cell_type": "code",
   "execution_count": null,
   "id": "f9bee201",
   "metadata": {},
   "outputs": [],
   "source": []
  },
  {
   "cell_type": "markdown",
   "id": "baed6c28",
   "metadata": {},
   "source": [
    "#### 4. Write a function that finds the least number of perfect squares that add up to the given integer.\n",
    "\n",
    "Examples:\n",
    "\n",
    "Input: 12 | Output:3 (4 + 4 + 4)\n",
    "Input: 13 | Output: 2 (4 + 9)\n"
   ]
  },
  {
   "cell_type": "code",
   "execution_count": null,
   "id": "35e63453",
   "metadata": {},
   "outputs": [],
   "source": []
  },
  {
   "cell_type": "code",
   "execution_count": null,
   "id": "45638d36",
   "metadata": {},
   "outputs": [],
   "source": []
  },
  {
   "cell_type": "markdown",
   "id": "40515da8",
   "metadata": {},
   "source": [
    "#### 5. Write a function that will divide two integers without using the multiplication, division, or modulo operators"
   ]
  },
  {
   "cell_type": "code",
   "execution_count": 7,
   "id": "f12f98aa",
   "metadata": {},
   "outputs": [],
   "source": [
    "def divide_without_dividing(x, y):\n",
    "    \n",
    "    quotient = 0\n",
    "    \n",
    "    x = abs(x)\n",
    "    y = abs(y)\n",
    "    denom = abs(y)\n",
    "    \n",
    "    while x >= y:\n",
    "        x -= y\n",
    "        quotient += 1\n",
    "    \n",
    "    \n",
    "    return f'{quotient} {x}/{denom}'\n",
    "    "
   ]
  },
  {
   "cell_type": "code",
   "execution_count": 8,
   "id": "67145e7f",
   "metadata": {},
   "outputs": [
    {
     "data": {
      "text/plain": [
       "'3 1/5'"
      ]
     },
     "execution_count": 8,
     "metadata": {},
     "output_type": "execute_result"
    }
   ],
   "source": [
    "divide_without_dividing(16,5)"
   ]
  },
  {
   "cell_type": "markdown",
   "id": "c2ae6ac8",
   "metadata": {},
   "source": [
    "#### 6. Return the integer equivalent of a given Roman numeral string. (Max = 1000)\n",
    "\n",
    "Example:\n",
    "\n",
    "Input: XXIV | Output: 24"
   ]
  },
  {
   "cell_type": "code",
   "execution_count": null,
   "id": "dc2b5c2c",
   "metadata": {},
   "outputs": [],
   "source": []
  },
  {
   "cell_type": "code",
   "execution_count": null,
   "id": "172eba83",
   "metadata": {},
   "outputs": [],
   "source": []
  },
  {
   "cell_type": "markdown",
   "id": "b97b2eec",
   "metadata": {},
   "source": [
    "#### 7. Write a function that will take a positive integer, convert it to binary, reverse the binary string, then return this reversed string in decimal form.\n",
    "\n",
    "Example:\n",
    "\n",
    "Input: 35 | Output: 49"
   ]
  },
  {
   "cell_type": "code",
   "execution_count": null,
   "id": "58c2f9f5",
   "metadata": {},
   "outputs": [],
   "source": []
  },
  {
   "cell_type": "code",
   "execution_count": null,
   "id": "9b07c0e9",
   "metadata": {},
   "outputs": [],
   "source": []
  },
  {
   "cell_type": "markdown",
   "id": "63618bb3",
   "metadata": {},
   "source": [
    "#### 8. Given an integer parameter, write a function that will return the next greater number using the same digits.\n",
    "\n",
    "Example:\n",
    "\n",
    "Input: 230 | Output: 302"
   ]
  },
  {
   "cell_type": "code",
   "execution_count": null,
   "id": "d5281d1d",
   "metadata": {},
   "outputs": [],
   "source": []
  },
  {
   "cell_type": "code",
   "execution_count": null,
   "id": "d724de45",
   "metadata": {},
   "outputs": [],
   "source": []
  },
  {
   "cell_type": "markdown",
   "id": "8207f31c",
   "metadata": {},
   "source": [
    "#### 9. Return the sum of all of the numbers in a given string divided by the number of letters. The answer should be rounded to the nearest whole number.\n",
    "\n",
    "Example:\n",
    "\n",
    "Input: H3llo fr13nd9 | Output: 2 (9+3+3+1 = 16, 16 / 8 letters = 2)"
   ]
  },
  {
   "cell_type": "code",
   "execution_count": 28,
   "id": "72994a1a",
   "metadata": {},
   "outputs": [],
   "source": [
    "def nums_by_ltrs(string):\n",
    "    \n",
    "    nums = [int(char) for char in string if char.isdigit()]\n",
    "    ltrs = [char for char in string if char.isalpha()]\n",
    "    \n",
    "    return sum(nums) / len(ltrs)"
   ]
  },
  {
   "cell_type": "code",
   "execution_count": 29,
   "id": "c2a8b922",
   "metadata": {},
   "outputs": [
    {
     "data": {
      "text/plain": [
       "2.0"
      ]
     },
     "execution_count": 29,
     "metadata": {},
     "output_type": "execute_result"
    }
   ],
   "source": [
    "nums_by_ltrs(string = 'H3llo fr13nd9')"
   ]
  },
  {
   "cell_type": "markdown",
   "id": "6dc7376a",
   "metadata": {},
   "source": [
    "#### 10 Write a function that determines whether or not a given string is a valid password. A password must follow these rules:\n",
    "\n",
    "    It must have a capital letter.\n",
    "\n",
    "    It must have at least one number.\n",
    "\n",
    "    It must contain a punctuation mark.\n",
    "\n",
    "    It cannot have the word \"password\" in it.\n",
    "\n",
    "    It must be longer than 6 characters and shorter than 21 characters.\n",
    "    \n",
    "Examples:\n",
    "    \n",
    "    Input: passWord101! | Output: false\n",
    "\n",
    "    Input: codE35? | Output: true\n"
   ]
  },
  {
   "cell_type": "code",
   "execution_count": 52,
   "id": "018029fd",
   "metadata": {},
   "outputs": [],
   "source": [
    "def valid_password(pwd):\n",
    "    \n",
    "    import string\n",
    "    \n",
    "    has_capital_letter = False\n",
    "    has_number = False\n",
    "    has_punctuation = False\n",
    "    contains_password = True\n",
    "    proper_length = False\n",
    "    \n",
    "    for char in pwd:\n",
    "        if char.isupper():\n",
    "            has_capital_letter = True\n",
    "        elif char.isdigit():\n",
    "            has_number = True\n",
    "        elif char in string.punctuation:\n",
    "            has_punctuation = True\n",
    "    if 'password' not in pwd.lower():\n",
    "        contains_password = False\n",
    "    if len(pwd) > 6 and len(pwd) < 21:\n",
    "        proper_length = True\n",
    "        \n",
    "    return has_capital_letter and has_number and has_punctuation and proper_length and not contains_password\n",
    "            "
   ]
  },
  {
   "cell_type": "code",
   "execution_count": 53,
   "id": "23719537",
   "metadata": {},
   "outputs": [
    {
     "data": {
      "text/plain": [
       "False"
      ]
     },
     "execution_count": 53,
     "metadata": {},
     "output_type": "execute_result"
    }
   ],
   "source": [
    "valid_password('passWord101!')"
   ]
  },
  {
   "cell_type": "code",
   "execution_count": 54,
   "id": "936ac2f5",
   "metadata": {},
   "outputs": [
    {
     "data": {
      "text/plain": [
       "True"
      ]
     },
     "execution_count": 54,
     "metadata": {},
     "output_type": "execute_result"
    }
   ],
   "source": [
    "valid_password('codE35?')"
   ]
  },
  {
   "cell_type": "code",
   "execution_count": null,
   "id": "ca65bbce",
   "metadata": {},
   "outputs": [],
   "source": []
  }
 ],
 "metadata": {
  "kernelspec": {
   "display_name": "Python 3 (ipykernel)",
   "language": "python",
   "name": "python3"
  },
  "language_info": {
   "codemirror_mode": {
    "name": "ipython",
    "version": 3
   },
   "file_extension": ".py",
   "mimetype": "text/x-python",
   "name": "python",
   "nbconvert_exporter": "python",
   "pygments_lexer": "ipython3",
   "version": "3.9.7"
  }
 },
 "nbformat": 4,
 "nbformat_minor": 5
}
