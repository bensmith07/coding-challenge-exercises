{
 "cells": [
  {
   "cell_type": "markdown",
   "id": "3395a6ae",
   "metadata": {},
   "source": [
    "#### 1. Write a function that takes an array of integers and a target integer, then returns the indices of the two integers that add up to the target. You may assume that each input would have exactly one solution, and you may not use the same element twice.\n",
    "\n",
    "Example:\n",
    "\n",
    "Input: [ 1, 4, 8, 12 ], 20 | Output: [ 2, 3 ]"
   ]
  },
  {
   "cell_type": "code",
   "execution_count": 1,
   "id": "9971ee1d",
   "metadata": {},
   "outputs": [],
   "source": [
    "def get_indices(lst, target):\n",
    "    \n",
    "    for elem1 in lst:\n",
    "        for elem2 in lst:\n",
    "            if elem1 != elem2 and elem1 + elem2 == 20:\n",
    "                return (lst.index(elem1), lst.index(elem2))\n",
    "    return []\n",
    "        \n",
    "    "
   ]
  },
  {
   "cell_type": "code",
   "execution_count": 2,
   "id": "aa78f046",
   "metadata": {},
   "outputs": [
    {
     "data": {
      "text/plain": [
       "(2, 3)"
      ]
     },
     "execution_count": 2,
     "metadata": {},
     "output_type": "execute_result"
    }
   ],
   "source": [
    "get_indices([1, 4, 8, 12], 20)"
   ]
  },
  {
   "cell_type": "code",
   "execution_count": 3,
   "id": "bf153b7d",
   "metadata": {},
   "outputs": [
    {
     "data": {
      "text/plain": [
       "(4, 9)"
      ]
     },
     "execution_count": 3,
     "metadata": {},
     "output_type": "execute_result"
    }
   ],
   "source": [
    "get_indices([1,2,3,4,5,6,7,8,9,15], 20)"
   ]
  },
  {
   "cell_type": "markdown",
   "id": "f15fe42b",
   "metadata": {},
   "source": [
    "#### 2. Write a function that sorts a string in decreasing order based on the frequency of the characters within it.\n",
    "\n",
    "Examples:\n",
    "\n",
    "Input: \"bee\" | Output:\"eeb\"\n",
    "Input: \"Abaaacdb\" | Output: \"aaabbAcd\""
   ]
  },
  {
   "cell_type": "code",
   "execution_count": 4,
   "id": "15e171cc",
   "metadata": {},
   "outputs": [],
   "source": [
    "def sort_string_by_count(string):\n",
    "    \n",
    "    counts = []\n",
    "    \n",
    "    for char in string:\n",
    "        counts.append({'character': char, 'count': string.count(char)})\n",
    "    \n",
    "    counts = sorted(counts, key=lambda elem: (elem['count']), reverse=True)\n",
    "    \n",
    "    return ''.join([elem['character'] for elem in counts])"
   ]
  },
  {
   "cell_type": "code",
   "execution_count": 5,
   "id": "98ca5131",
   "metadata": {},
   "outputs": [
    {
     "data": {
      "text/plain": [
       "'eeb'"
      ]
     },
     "execution_count": 5,
     "metadata": {},
     "output_type": "execute_result"
    }
   ],
   "source": [
    "sort_string_by_count('bee')"
   ]
  },
  {
   "cell_type": "code",
   "execution_count": 6,
   "id": "c6377ade",
   "metadata": {},
   "outputs": [
    {
     "data": {
      "text/plain": [
       "'aaabbAcd'"
      ]
     },
     "execution_count": 6,
     "metadata": {},
     "output_type": "execute_result"
    }
   ],
   "source": [
    "sort_string_by_count('Abaaacdb')"
   ]
  },
  {
   "cell_type": "markdown",
   "id": "46d28796",
   "metadata": {},
   "source": [
    "#### 5. Write a function that will divide two integers without using the multiplication, division, or modulo operators"
   ]
  },
  {
   "cell_type": "code",
   "execution_count": 7,
   "id": "a31b51de",
   "metadata": {},
   "outputs": [],
   "source": [
    "def divide_without_dividing(x, y):\n",
    "    \n",
    "    quotient = 0\n",
    "    \n",
    "    x = abs(x)\n",
    "    y = abs(y)\n",
    "    denom = abs(y)\n",
    "    \n",
    "    while x >= y:\n",
    "        x -= y\n",
    "        quotient += 1\n",
    "    \n",
    "    \n",
    "    return f'{quotient} {x}/{denom}'\n",
    "    "
   ]
  },
  {
   "cell_type": "code",
   "execution_count": 8,
   "id": "d85ea228",
   "metadata": {},
   "outputs": [
    {
     "data": {
      "text/plain": [
       "'3 1/5'"
      ]
     },
     "execution_count": 8,
     "metadata": {},
     "output_type": "execute_result"
    }
   ],
   "source": [
    "divide_without_dividing(16,5)"
   ]
  },
  {
   "cell_type": "markdown",
   "id": "8ef09296",
   "metadata": {},
   "source": [
    "#### 9. Return the sum of all of the numbers in a given string divided by the number of letters. The answer should be rounded to the nearest whole number.\n",
    "\n",
    "Example:\n",
    "\n",
    "Input: H3llo fr13nd9 | Output: 2 (9+3+3+1 = 16, 16 / 8 letters = 2)"
   ]
  },
  {
   "cell_type": "code",
   "execution_count": 9,
   "id": "3a89a72c",
   "metadata": {},
   "outputs": [],
   "source": [
    "def nums_by_ltrs(string):\n",
    "    \n",
    "    nums = [int(char) for char in string if char.isdigit()]\n",
    "    ltrs = [char for char in string if char.isalpha()]\n",
    "    \n",
    "    return sum(nums) / len(ltrs)"
   ]
  },
  {
   "cell_type": "code",
   "execution_count": 10,
   "id": "52d530f7",
   "metadata": {},
   "outputs": [
    {
     "data": {
      "text/plain": [
       "2.0"
      ]
     },
     "execution_count": 10,
     "metadata": {},
     "output_type": "execute_result"
    }
   ],
   "source": [
    "nums_by_ltrs(string = 'H3llo fr13nd9')"
   ]
  },
  {
   "cell_type": "markdown",
   "id": "b67d1a26",
   "metadata": {},
   "source": [
    "#### 10 Write a function that determines whether or not a given string is a valid password. A password must follow these rules:\n",
    "\n",
    "    It must have a capital letter.\n",
    "\n",
    "    It must have at least one number.\n",
    "\n",
    "    It must contain a punctuation mark.\n",
    "\n",
    "    It cannot have the word \"password\" in it.\n",
    "\n",
    "    It must be longer than 6 characters and shorter than 21 characters.\n",
    "    \n",
    "Examples:\n",
    "    \n",
    "    Input: passWord101! | Output: false\n",
    "\n",
    "    Input: codE35? | Output: true\n"
   ]
  },
  {
   "cell_type": "code",
   "execution_count": 11,
   "id": "2a466bb7",
   "metadata": {},
   "outputs": [],
   "source": [
    "def valid_password(pwd):\n",
    "    \n",
    "    import string\n",
    "    \n",
    "    has_capital_letter = False\n",
    "    has_number = False\n",
    "    has_punctuation = False\n",
    "    contains_password = True\n",
    "    proper_length = False\n",
    "    \n",
    "    for char in pwd:\n",
    "        if char.isupper():\n",
    "            has_capital_letter = True\n",
    "        elif char.isdigit():\n",
    "            has_number = True\n",
    "        elif char in string.punctuation:\n",
    "            has_punctuation = True\n",
    "    if 'password' not in pwd.lower():\n",
    "        contains_password = False\n",
    "    if len(pwd) > 6 and len(pwd) < 21:\n",
    "        proper_length = True\n",
    "        \n",
    "    return has_capital_letter and has_number and has_punctuation and proper_length and not contains_password\n",
    "            "
   ]
  },
  {
   "cell_type": "code",
   "execution_count": 12,
   "id": "d65ba3e0",
   "metadata": {},
   "outputs": [
    {
     "data": {
      "text/plain": [
       "False"
      ]
     },
     "execution_count": 12,
     "metadata": {},
     "output_type": "execute_result"
    }
   ],
   "source": [
    "valid_password('passWord101!')"
   ]
  },
  {
   "cell_type": "code",
   "execution_count": 13,
   "id": "1da00a31",
   "metadata": {},
   "outputs": [
    {
     "data": {
      "text/plain": [
       "True"
      ]
     },
     "execution_count": 13,
     "metadata": {},
     "output_type": "execute_result"
    }
   ],
   "source": [
    "valid_password('codE35?')"
   ]
  },
  {
   "cell_type": "markdown",
   "id": "e3106b7b",
   "metadata": {},
   "source": [
    "#### 14. Create a function to validate if the given parameters are valid geo coordinates. Latitude (first) can be between 0 and 90, positive or negative. Longitude (second) can be between 0 and 180, positive or negative. Coordinates can only contain digits or one of the following symbols -, . There should not be a space between the minus \"-\" sign and the digit after it.\n",
    "\n",
    "Examples:\n",
    "\n",
    "Input: 24.78245, 23.64572 | Output:true\n",
    "\n",
    "Input: -37J425.87, 874.123 | Output: false"
   ]
  },
  {
   "cell_type": "code",
   "execution_count": 14,
   "id": "cb45be5b",
   "metadata": {},
   "outputs": [],
   "source": [
    "def valid_coords(lat, long):\n",
    "    \n",
    "    # assuming inputs are strings\n",
    "    \n",
    "    for elem in [lat, long]:\n",
    "        for char in elem:\n",
    "            if not char.isdigit() and char not in ['-', '.']:\n",
    "                return False\n",
    "            \n",
    "    lat = abs(float(lat))\n",
    "    long = abs(float(long))\n",
    "    \n",
    "    if lat < 0 or lat > 90 or long < 0 or long > 180:\n",
    "        return False\n",
    "    else:\n",
    "        return True\n",
    "    "
   ]
  },
  {
   "cell_type": "code",
   "execution_count": 15,
   "id": "dfd84524",
   "metadata": {},
   "outputs": [
    {
     "data": {
      "text/plain": [
       "True"
      ]
     },
     "execution_count": 15,
     "metadata": {},
     "output_type": "execute_result"
    }
   ],
   "source": [
    "valid_coords('24.78245', '23.64572' )"
   ]
  },
  {
   "cell_type": "code",
   "execution_count": 16,
   "id": "50e9bf0b",
   "metadata": {},
   "outputs": [
    {
     "data": {
      "text/plain": [
       "False"
      ]
     },
     "execution_count": 16,
     "metadata": {},
     "output_type": "execute_result"
    }
   ],
   "source": [
    "valid_coords('-37J425.87', '874.123')"
   ]
  },
  {
   "cell_type": "markdown",
   "id": "fac7883d",
   "metadata": {},
   "source": [
    "#### 16. Write a function that capitalizes the first letter of each word in a string.\n"
   ]
  },
  {
   "cell_type": "code",
   "execution_count": 17,
   "id": "ca58ae70",
   "metadata": {},
   "outputs": [],
   "source": [
    "def cap_first_ltr(sentence):\n",
    "    return ' '.join([word.capitalize() for word in sentence.split()])"
   ]
  },
  {
   "cell_type": "code",
   "execution_count": 18,
   "id": "8ae2408f",
   "metadata": {},
   "outputs": [
    {
     "data": {
      "text/plain": [
       "'The Quick Brown Fox'"
      ]
     },
     "execution_count": 18,
     "metadata": {},
     "output_type": "execute_result"
    }
   ],
   "source": [
    "cap_first_ltr('the quick brown fox')"
   ]
  },
  {
   "cell_type": "code",
   "execution_count": 19,
   "id": "f1c8ded9",
   "metadata": {},
   "outputs": [
    {
     "data": {
      "text/plain": [
       "'Jumped Over The Lazy Red Dog'"
      ]
     },
     "execution_count": 19,
     "metadata": {},
     "output_type": "execute_result"
    }
   ],
   "source": [
    "cap_first_ltr('jumped over the lazy red dog')"
   ]
  },
  {
   "cell_type": "markdown",
   "id": "9512a37f",
   "metadata": {},
   "source": [
    "#### 18. Build a pyramid using the characters from a given string.\n",
    "\n",
    "Example:\n",
    "\n",
    "Given string: \"azb\" | Output: b zzz aaaaa"
   ]
  },
  {
   "cell_type": "code",
   "execution_count": 20,
   "id": "8be6d5ff",
   "metadata": {},
   "outputs": [],
   "source": [
    "def pyramid_builder(string1):\n",
    "    \n",
    "    final_char_count = 1\n",
    "    for char in string1:\n",
    "        final_char_count += 2\n",
    "    \n",
    "    char_count = 1\n",
    "    output = ''\n",
    "    space_count = ((len(string1) * 2 - 1) // 2) + 1\n",
    "    \n",
    "    for char in string1:\n",
    "        output += (space_count * ' ') + (char_count * char) + '\\n'\n",
    "        char_count += 2\n",
    "        space_count -= 1\n",
    "\n",
    "        \n",
    "    return (output)"
   ]
  },
  {
   "cell_type": "code",
   "execution_count": 21,
   "id": "e2189dbd",
   "metadata": {},
   "outputs": [
    {
     "name": "stdout",
     "output_type": "stream",
     "text": [
      "   b\n",
      "  zzz\n",
      " aaaaa\n",
      "\n"
     ]
    }
   ],
   "source": [
    "print(pyramid_builder('bza'))"
   ]
  },
  {
   "cell_type": "code",
   "execution_count": 22,
   "id": "bbf59d39",
   "metadata": {},
   "outputs": [
    {
     "name": "stdout",
     "output_type": "stream",
     "text": [
      "       a\n",
      "      bbb\n",
      "     ccccc\n",
      "    ddddddd\n",
      "   eeeeeeeee\n",
      "  fffffffffff\n",
      " ggggggggggggg\n",
      "\n"
     ]
    }
   ],
   "source": [
    "print(pyramid_builder('abcdefg'))"
   ]
  },
  {
   "cell_type": "markdown",
   "id": "4a49330b",
   "metadata": {},
   "source": [
    "#### 21 Given an integer, determine whether or not the number is a perfect square.\n",
    "\n",
    "Examples:\n",
    "\n",
    "Input: 3 | Output:false\n",
    "\n",
    "Input: 25 | Output: true"
   ]
  },
  {
   "cell_type": "code",
   "execution_count": 23,
   "id": "d402fc20",
   "metadata": {},
   "outputs": [],
   "source": [
    "def is_square(num):\n",
    "    for number in range(1, num + 1):\n",
    "        if number ** 2 == num:\n",
    "            return True\n",
    "    return False"
   ]
  },
  {
   "cell_type": "code",
   "execution_count": 24,
   "id": "b93b37b5",
   "metadata": {},
   "outputs": [
    {
     "data": {
      "text/plain": [
       "False"
      ]
     },
     "execution_count": 24,
     "metadata": {},
     "output_type": "execute_result"
    }
   ],
   "source": [
    "is_square(3)"
   ]
  },
  {
   "cell_type": "code",
   "execution_count": 25,
   "id": "d3dbbb71",
   "metadata": {},
   "outputs": [
    {
     "data": {
      "text/plain": [
       "True"
      ]
     },
     "execution_count": 25,
     "metadata": {},
     "output_type": "execute_result"
    }
   ],
   "source": [
    "is_square(25)"
   ]
  },
  {
   "cell_type": "markdown",
   "id": "5b17068e",
   "metadata": {},
   "source": [
    "#### 22. Write a function that takes a single string as its argument and returns an ordered list of the indexes of all capital letters in the string. Assume that all input will have at least one capital letter.\n",
    "\n",
    "Example:\n",
    "\n",
    "Input: HelLO | Output:0,3,4\n",
    "\n",
    "Input: codinG | Output: 5"
   ]
  },
  {
   "cell_type": "code",
   "execution_count": 26,
   "id": "eb403cb6",
   "metadata": {},
   "outputs": [],
   "source": [
    "def cap_idx(string1):\n",
    "    idx = 0\n",
    "    lst = []\n",
    "    for ltr in string1:\n",
    "        if ltr.isupper():\n",
    "            lst.append(idx)\n",
    "        idx += 1\n",
    "    return lst"
   ]
  },
  {
   "cell_type": "code",
   "execution_count": 27,
   "id": "66568d2c",
   "metadata": {},
   "outputs": [
    {
     "data": {
      "text/plain": [
       "[0, 3, 4]"
      ]
     },
     "execution_count": 27,
     "metadata": {},
     "output_type": "execute_result"
    }
   ],
   "source": [
    "cap_idx('HelLO')"
   ]
  },
  {
   "cell_type": "code",
   "execution_count": 28,
   "id": "08faec6f",
   "metadata": {},
   "outputs": [
    {
     "data": {
      "text/plain": [
       "[5]"
      ]
     },
     "execution_count": 28,
     "metadata": {},
     "output_type": "execute_result"
    }
   ],
   "source": [
    "cap_idx('codinG')"
   ]
  },
  {
   "cell_type": "markdown",
   "id": "9ad070bb",
   "metadata": {},
   "source": [
    "#### 24. ATMs only allow for 4 or 6 digit PINs. These PINs can only contain integers. Write a function that takes a PIN and checks to see if it is valid.\n",
    "\n",
    "Example:\n",
    "\n",
    "Input: 8472 | Output:true\n",
    "Input: 76a1 | Output: false"
   ]
  },
  {
   "cell_type": "code",
   "execution_count": 29,
   "id": "a8231120",
   "metadata": {},
   "outputs": [],
   "source": [
    "def valid_atm_pin(pin):\n",
    "    if len(pin) != 4 and len(pin) != 6:\n",
    "        return False\n",
    "    for char in pin:\n",
    "        if not char.isdigit():\n",
    "            return False\n",
    "    return True"
   ]
  },
  {
   "cell_type": "code",
   "execution_count": 30,
   "id": "86ebf039",
   "metadata": {},
   "outputs": [
    {
     "data": {
      "text/plain": [
       "True"
      ]
     },
     "execution_count": 30,
     "metadata": {},
     "output_type": "execute_result"
    }
   ],
   "source": [
    "valid_atm_pin('8472')"
   ]
  },
  {
   "cell_type": "code",
   "execution_count": 31,
   "id": "40cd49c0",
   "metadata": {},
   "outputs": [
    {
     "data": {
      "text/plain": [
       "False"
      ]
     },
     "execution_count": 31,
     "metadata": {},
     "output_type": "execute_result"
    }
   ],
   "source": [
    "valid_atm_pin('76a1')"
   ]
  },
  {
   "cell_type": "code",
   "execution_count": 32,
   "id": "b47a70ac",
   "metadata": {},
   "outputs": [
    {
     "data": {
      "text/plain": [
       "False"
      ]
     },
     "execution_count": 32,
     "metadata": {},
     "output_type": "execute_result"
    }
   ],
   "source": [
    "valid_atm_pin('12345')"
   ]
  },
  {
   "cell_type": "markdown",
   "id": "9d39b209",
   "metadata": {},
   "source": [
    "#### 3. Return the length of the longest possible palindrome within a given string.\n",
    "\n",
    "Examples:\n",
    "\n",
    "Input: \"bbadbb\" | Output:5 (bbabb or bbdbb)\n",
    "Input: \"bcd\" | Output: 1 (b, c, or d)"
   ]
  },
  {
   "cell_type": "markdown",
   "id": "33cc3bf1",
   "metadata": {},
   "source": [
    "#### 4. Write a function that finds the least number of perfect squares that add up to the given integer.\n",
    "\n",
    "Examples:\n",
    "\n",
    "Input: 12 | Output:3 (4 + 4 + 4)\n",
    "Input: 13 | Output: 2 (4 + 9)\n"
   ]
  },
  {
   "cell_type": "markdown",
   "id": "6930c5d1",
   "metadata": {},
   "source": [
    "#### 6. Return the integer equivalent of a given Roman numeral string. (Max = 1000)\n",
    "\n",
    "Example:\n",
    "\n",
    "Input: XXIV | Output: 24"
   ]
  },
  {
   "cell_type": "markdown",
   "id": "9e3465c9",
   "metadata": {},
   "source": [
    "#### 7. Write a function that will take a positive integer, convert it to binary, reverse the binary string, then return this reversed string in decimal form.\n",
    "\n",
    "Example:\n",
    "\n",
    "Input: 35 | Output: 49"
   ]
  },
  {
   "cell_type": "markdown",
   "id": "e155eec6",
   "metadata": {},
   "source": [
    "#### 8. Given an integer parameter, write a function that will return the next greater number using the same digits.\n",
    "\n",
    "Example:\n",
    "\n",
    "Input: 230 | Output: 302"
   ]
  },
  {
   "cell_type": "markdown",
   "id": "4e5d8744",
   "metadata": {},
   "source": [
    "#### 12. Return an array of standard CSS hex notation colors from a given string of ASCII characters. For every 3 characters, include the associated color. If the input string is not evenly divisible by three, ignore any trailing characters.\n",
    "\n",
    "Example:\n",
    "\n",
    "Input: B%1A | Output: [ \"#422531\" ]"
   ]
  },
  {
   "cell_type": "markdown",
   "id": "f362ec6e",
   "metadata": {},
   "source": [
    "#### 13. Write a function that returns the number of different integer triangles with an angle of 120 degrees and a perimeter under or equal to a certain value. Each side of an integer triangle is an integer value.\n",
    "\n",
    "Example: Input: 30 | Output: 3"
   ]
  },
  {
   "cell_type": "markdown",
   "id": "0688ec57",
   "metadata": {},
   "source": [
    "#### 15. Create a function that converts a number to the corresponding 32-bit binary value. It should be able to convert both positive AND negative numbers. Do not use internal functions to do the conversion, as we WILL be checking your code on this last answer.\n",
    "\n",
    "Example:\n",
    "\n",
    "Input: 0.15625 | Output:00111110001000000000000000000000"
   ]
  },
  {
   "cell_type": "markdown",
   "id": "8262ecd3",
   "metadata": {},
   "source": [
    "#### 17. Write a function that changes every letter in a string to the next letter in the alphabet. Capital letters must remain capitalized."
   ]
  },
  {
   "cell_type": "markdown",
   "id": "1574339f",
   "metadata": {},
   "source": [
    "#### 19. Create a bit calculator. You will be given two numbers that have been translated into bit form. You must return the sum of those two numbers in decimal form.\n",
    "\n",
    "Example:\n",
    "\n",
    "Given numbers: 1011, 10 | Output:13"
   ]
  },
  {
   "cell_type": "markdown",
   "id": "74afc57c",
   "metadata": {},
   "source": [
    "#### 20 Given any number, find out how many different ways you can write it as a sum of positive integers.\n",
    "\n",
    "Example:\n",
    "\n",
    "Given number: 4 | Output:5\n",
    "\n",
    "These are the 5 different ways you can write it:\n",
    "\n",
    "4\n",
    "\n",
    "3 + 1\n",
    "\n",
    "2 + 2\n",
    "\n",
    "2 + 1 + 1\n",
    "\n",
    "1 + 1 + 1 + 1"
   ]
  },
  {
   "cell_type": "markdown",
   "id": "beaf4f8b",
   "metadata": {},
   "source": [
    "#### 23. Write a function that converts miles per gallon (US gallon) to kilometers per liter. Output must be rounded to two decimal points.\n",
    "\n",
    "Example:\n",
    "\n",
    "Input: 5 | Output:2.13\n",
    "Input: 18 | Output: 7.65"
   ]
  },
  {
   "cell_type": "markdown",
   "id": "da7562c2",
   "metadata": {},
   "source": [
    "#### 25. Determine whether or not a word is an anagram of another. Return true if it is, and false if it is not.\n",
    "\n",
    "Example:\n",
    "\n",
    "Input: deco, code | Output:true\n",
    "\n",
    "Input: last, nope | Output: false"
   ]
  },
  {
   "cell_type": "markdown",
   "id": "07c8b108",
   "metadata": {},
   "source": [
    "#### 26 A number chain is created by continuously adding the square of the digits in a number to form a new number until it has been seen before.\n",
    "\n",
    "For Example:\n",
    "\n",
    "44 -> 32 -> 13 -> 10 -> **1** -> **1**\n",
    "\n",
    "85 -> **89** -> 145 -> 42 -> 20 -> 4 -> 16 -> 37 -> 58 -> **89**\n",
    "\n",
    "Therefore any chain that arrives at 1 or 89 will become stuck in an endless loop. What is most amazing is that EVERY starting number will eventually arrive at 1 or 89.\n",
    "\n",
    "How many starting numbers below one million will arrive at 89?"
   ]
  },
  {
   "cell_type": "code",
   "execution_count": null,
   "id": "e4d40a11",
   "metadata": {},
   "outputs": [],
   "source": []
  },
  {
   "cell_type": "code",
   "execution_count": null,
   "id": "a0086f86",
   "metadata": {},
   "outputs": [],
   "source": []
  }
 ],
 "metadata": {
  "kernelspec": {
   "display_name": "Python 3 (ipykernel)",
   "language": "python",
   "name": "python3"
  },
  "language_info": {
   "codemirror_mode": {
    "name": "ipython",
    "version": 3
   },
   "file_extension": ".py",
   "mimetype": "text/x-python",
   "name": "python",
   "nbconvert_exporter": "python",
   "pygments_lexer": "ipython3",
   "version": "3.9.7"
  }
 },
 "nbformat": 4,
 "nbformat_minor": 5
}
