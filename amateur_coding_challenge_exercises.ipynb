{
 "cells": [
  {
   "cell_type": "markdown",
   "id": "916ff9f7",
   "metadata": {},
   "source": [
    "# Amateur Coding Challenges"
   ]
  },
  {
   "cell_type": "markdown",
   "id": "a912deb1",
   "metadata": {},
   "source": [
    "#### 1. Write a function that returns the SUM of a sequence of numbers. This sequence is determined by three variables: start, finish, and step. The sequence begins at start, ends at finish, and goes up by step until it reaches finish or a number that when increased by step would go past finish."
   ]
  },
  {
   "cell_type": "markdown",
   "id": "ba0fb0f6",
   "metadata": {},
   "source": [
    "Examples:\n",
    "\n",
    "Input: start: 1 finish: 4 step: 1 | Output: 10\n",
    "\n",
    "Input: start: 4 finish: 10 step: 4 | Output: 12"
   ]
  },
  {
   "cell_type": "code",
   "execution_count": 20,
   "id": "29605d3b",
   "metadata": {},
   "outputs": [],
   "source": [
    "def sum_of_sequence(start, finish, step=1):\n",
    "    return sum(range(start, finish + 1, step))"
   ]
  },
  {
   "cell_type": "code",
   "execution_count": 21,
   "id": "3e40d21d",
   "metadata": {},
   "outputs": [
    {
     "data": {
      "text/plain": [
       "10"
      ]
     },
     "execution_count": 21,
     "metadata": {},
     "output_type": "execute_result"
    }
   ],
   "source": [
    "sum_of_sequence(1, 4)"
   ]
  },
  {
   "cell_type": "code",
   "execution_count": 22,
   "id": "1ba7c3e6",
   "metadata": {},
   "outputs": [
    {
     "data": {
      "text/plain": [
       "12"
      ]
     },
     "execution_count": 22,
     "metadata": {},
     "output_type": "execute_result"
    }
   ],
   "source": [
    "sum_of_sequence(4, 10, 4)"
   ]
  },
  {
   "cell_type": "markdown",
   "id": "56852589",
   "metadata": {},
   "source": [
    "#### 2. Given a string of any length with any characters in it, write a function to determine whether or not the string contains the whole word \"english\". The order of characters/spelling is important, a string \"agkjnenglishsad\" would return true while \"asdneglihsth\" would return false. Upper and lower case does not matter. Return values should be booleans (true/false)."
   ]
  },
  {
   "cell_type": "markdown",
   "id": "02dc55d0",
   "metadata": {},
   "source": [
    "Examples:\n",
    "\n",
    "Input: \"FaagdnglishAGG\" | Output: false\n",
    "\n",
    "Input: \"SMFENgliSHasnD\" | Output: true"
   ]
  },
  {
   "cell_type": "code",
   "execution_count": 30,
   "id": "26544332",
   "metadata": {},
   "outputs": [],
   "source": [
    "def contains_english(string):\n",
    "    return 'english' in string.lower()\n",
    "        "
   ]
  },
  {
   "cell_type": "code",
   "execution_count": 31,
   "id": "45c2e9cf",
   "metadata": {},
   "outputs": [
    {
     "data": {
      "text/plain": [
       "False"
      ]
     },
     "execution_count": 31,
     "metadata": {},
     "output_type": "execute_result"
    }
   ],
   "source": [
    "contains_english('FaagdnglishAGG')"
   ]
  },
  {
   "cell_type": "code",
   "execution_count": 32,
   "id": "e82f7826",
   "metadata": {},
   "outputs": [
    {
     "data": {
      "text/plain": [
       "True"
      ]
     },
     "execution_count": 32,
     "metadata": {},
     "output_type": "execute_result"
    }
   ],
   "source": [
    "contains_english('SMFENgliSHasnD')"
   ]
  },
  {
   "cell_type": "markdown",
   "id": "e5a0f315",
   "metadata": {},
   "source": [
    "#### 3. Given an array of integers, write a function that returns an array of 2 integers. The first integer will be the count of the positive integers, and the second integer will be the sum of the negative integers. If the input is empty or null, return an empty array.\n",
    "\n",
    "Examples:\n",
    "\n",
    "Input: [1, -6, 5, 4, 3, -7, -10, 201, -3] | Output: [5, -26]\n",
    "\n",
    "Input: null | Output: []"
   ]
  },
  {
   "cell_type": "code",
   "execution_count": 36,
   "id": "b3d995b3",
   "metadata": {},
   "outputs": [],
   "source": [
    "def count_pos_sum_neg(arr):\n",
    "    \n",
    "    if len(arr) == 0:\n",
    "        return []\n",
    "    \n",
    "    return [len([i for i in arr if i > 0]), sum([i for i in arr if i < 0])]"
   ]
  },
  {
   "cell_type": "code",
   "execution_count": 37,
   "id": "4f0063e5",
   "metadata": {},
   "outputs": [
    {
     "data": {
      "text/plain": [
       "[5, -26]"
      ]
     },
     "execution_count": 37,
     "metadata": {},
     "output_type": "execute_result"
    }
   ],
   "source": [
    "count_pos_sum_neg([1, -6, 5, 4, 3, -7, -10, 201, -3])"
   ]
  },
  {
   "cell_type": "code",
   "execution_count": 42,
   "id": "e54b28b7",
   "metadata": {},
   "outputs": [
    {
     "data": {
      "text/plain": [
       "[]"
      ]
     },
     "execution_count": 42,
     "metadata": {},
     "output_type": "execute_result"
    }
   ],
   "source": [
    "count_pos_sum_neg([])"
   ]
  },
  {
   "cell_type": "markdown",
   "id": "a4acc2ca",
   "metadata": {},
   "source": [
    "#### 4. Write a function that translates an input string by replacing each character with a number representing the amount of times that character appears in the string. Then separate each individual number with a different character.\n",
    "\n",
    "Examples:\n",
    "\n",
    "Input: \"hello world\", \"-\" | Output: \"1-1-3-3-2-1-1-2-1-3-1\"\n",
    "\n",
    "Input: \"challenge\", \"/\" | Output: \"1/1/1/2/2/2/1/1/2\""
   ]
  },
  {
   "cell_type": "code",
   "execution_count": 99,
   "id": "badc5b91",
   "metadata": {},
   "outputs": [],
   "source": [
    "def replacer(string, separator='-'):\n",
    "    \n",
    "    counts = {}\n",
    "    \n",
    "    for char in string:\n",
    "        if char not in counts:\n",
    "            counts[char] = string.count(char)\n",
    "            \n",
    "    for char in string:\n",
    "        string = string.replace(char, str(counts[char]))\n",
    "        \n",
    "    return separator.join(string)"
   ]
  },
  {
   "cell_type": "code",
   "execution_count": 100,
   "id": "7d5ed553",
   "metadata": {},
   "outputs": [
    {
     "data": {
      "text/plain": [
       "'1-1-3-3-2-1-1-2-1-3-1'"
      ]
     },
     "execution_count": 100,
     "metadata": {},
     "output_type": "execute_result"
    }
   ],
   "source": [
    "replacer('hello world')"
   ]
  },
  {
   "cell_type": "code",
   "execution_count": 101,
   "id": "2c88dd07",
   "metadata": {},
   "outputs": [
    {
     "data": {
      "text/plain": [
       "'1/1/1/2/2/2/1/1/2'"
      ]
     },
     "execution_count": 101,
     "metadata": {},
     "output_type": "execute_result"
    }
   ],
   "source": [
    "replacer('challenge', '/')"
   ]
  },
  {
   "cell_type": "markdown",
   "id": "b90ea52b",
   "metadata": {},
   "source": [
    "#### 5. Given a string of names like this: \"Travis:Meyer;Gene:Carangal;Tom:Young;Jeff:Meyer\", write a function that makes the entire string uppercase and sorts it in alphabetical order by last name. If the last names are the same sort them by the first name. Put the last name in front of the first name, remove the colons and semicolons, put the names in parentheses and separate the names with commas.\n",
    "\n",
    "Example:\n",
    "\n",
    "The end string should look like this: \"(CARANGAL, GENE)(MEYER, JEFF)(MEYER, TRAVIS)(YOUNG, TOM)\"\n"
   ]
  },
  {
   "cell_type": "code",
   "execution_count": 134,
   "id": "abc802a7",
   "metadata": {},
   "outputs": [],
   "source": [
    "def name_sorter(string):\n",
    "    \n",
    "    lst = []\n",
    "    lst2 = []\n",
    "    \n",
    "    for i in range(string.count(';')):\n",
    "        lst.append(string[:string.index(';')])\n",
    "        string = string[string.index(';') + 1:]\n",
    "    lst.append(string)\n",
    "    \n",
    "    for name in lst:\n",
    "        idx = name.index(':')\n",
    "        lst2.append({'first': name[:idx], 'last': name[idx+1:]})\n",
    "        \n",
    "    lst2 = sorted(lst2, key=lambda i: i['last'])\n",
    "    \n",
    "    print()\n",
    "    for elem in lst2:\n",
    "        print(elem['last'], elem['first'])"
   ]
  },
  {
   "cell_type": "code",
   "execution_count": 135,
   "id": "4d1287f0",
   "metadata": {},
   "outputs": [
    {
     "name": "stdout",
     "output_type": "stream",
     "text": [
      "\n",
      "Carangal Gene\n",
      "Meyer Travis\n",
      "Meyer Jeff\n",
      "Young Tom\n"
     ]
    }
   ],
   "source": [
    "name_sorter('Travis:Meyer;Gene:Carangal;Tom:Young;Jeff:Meyer')"
   ]
  },
  {
   "cell_type": "code",
   "execution_count": null,
   "id": "4fad9565",
   "metadata": {},
   "outputs": [],
   "source": []
  }
 ],
 "metadata": {
  "kernelspec": {
   "display_name": "Python 3 (ipykernel)",
   "language": "python",
   "name": "python3"
  },
  "language_info": {
   "codemirror_mode": {
    "name": "ipython",
    "version": 3
   },
   "file_extension": ".py",
   "mimetype": "text/x-python",
   "name": "python",
   "nbconvert_exporter": "python",
   "pygments_lexer": "ipython3",
   "version": "3.9.7"
  }
 },
 "nbformat": 4,
 "nbformat_minor": 5
}
